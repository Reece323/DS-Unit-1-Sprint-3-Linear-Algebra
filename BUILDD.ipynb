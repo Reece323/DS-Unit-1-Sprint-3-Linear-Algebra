{
  "nbformat": 4,
  "nbformat_minor": 0,
  "metadata": {
    "colab": {
      "name": "BUILDD.ipynb",
      "provenance": [],
      "collapsed_sections": [],
      "authorship_tag": "ABX9TyNO3Xh3ciSdLsTmt+eJjPwa",
      "include_colab_link": true
    },
    "kernelspec": {
      "name": "python3",
      "display_name": "Python 3"
    }
  },
  "cells": [
    {
      "cell_type": "markdown",
      "metadata": {
        "id": "view-in-github",
        "colab_type": "text"
      },
      "source": [
        "<a href=\"https://colab.research.google.com/github/Reece323/DS-Unit-1-Sprint-3-Linear-Algebra/blob/master/BUILDD.ipynb\" target=\"_parent\"><img src=\"https://colab.research.google.com/assets/colab-badge.svg\" alt=\"Open In Colab\"/></a>"
      ]
    },
    {
      "cell_type": "markdown",
      "metadata": {
        "id": "JzL3HbkxelME",
        "colab_type": "text"
      },
      "source": [
        "#Working on my BUILD!!!\n"
      ]
    },
    {
      "cell_type": "markdown",
      "metadata": {
        "id": "im3cDQHfetzf",
        "colab_type": "text"
      },
      "source": [
        "###Starting out loading in and checking out:"
      ]
    },
    {
      "cell_type": "code",
      "metadata": {
        "id": "ij5eZKDSzqId",
        "colab_type": "code",
        "colab": {}
      },
      "source": [
        "%load_ext google.colab.data_table\n",
        "# %unload_ext google.colab.data_table\n",
        "\n",
        "import pandas as pd\n",
        "import numpy as np\n",
        "Fights = pd.read_csv('Build_FIGHTS.csv')\n",
        "Fighters = pd.read_csv('Build_FIGHTERS.csv',names = ['url', 'fid', 'name', 'nick', 'birth_date', 'height', 'weight',\n",
        "       'association', 'class', 'locality', 'country'])"
      ],
      "execution_count": 1,
      "outputs": []
    },
    {
      "cell_type": "markdown",
      "metadata": {
        "id": "McSelLaarcZU",
        "colab_type": "text"
      },
      "source": [
        "###Checking out the Fighters:\n"
      ]
    },
    {
      "cell_type": "code",
      "metadata": {
        "id": "DuzQC0EC1AKJ",
        "colab_type": "code",
        "colab": {
          "base_uri": "https://localhost:8080/",
          "height": 256
        },
        "outputId": "5baecf37-c148-4403-b2ed-29c256e99a03"
      },
      "source": [
        "Fighters.head(5)"
      ],
      "execution_count": 2,
      "outputs": [
        {
          "output_type": "execute_result",
          "data": {
            "application/vnd.google.colaboratory.module+javascript": "\n      import \"https://ssl.gstatic.com/colaboratory/data_table/a6224c040fa35dcf/data_table.js\";\n\n      window.createDataTable({\n        data: [[{\n            'v': 0,\n            'f': \"0\",\n        },\n\"url\",\n\"fid\",\n\"name\",\n\"nick\",\n\"birth_date\",\n\"height\",\n\"weight\",\n\"association\",\n\"class\",\n\"locality\",\n\"country\"],\n [{\n            'v': 1,\n            'f': \"1\",\n        },\n\"/fighter/Conor-McGregor-29688\",\n\"29688\",\n\"Conor McGregor\",\n\"Notorious\",\n\"7/14/1988\",\n\"68\",\n\"145\",\n\"SBG Ireland\",\n\"Featherweight\",\n\"Dublin\",\n\"Ireland\"],\n [{\n            'v': 2,\n            'f': \"2\",\n        },\n\"/fighter/Jon-Jones-27944\",\n\"27944\",\n\"Jon Jones\",\n\"Bones\",\n\"7/19/1987\",\n\"76\",\n\"205\",\n\"Jackson-Wink MMA\",\n\"Light Heavyweight\",\n\"Rochester, New York\",\n\"United States\"],\n [{\n            'v': 3,\n            'f': \"3\",\n        },\n\"/fighter/Holly-Holm-75125\",\n\"75125\",\n\"Holly Holm\",\n\"The Preacher's Daughter\",\n\"10/17/1981\",\n\"68\",\n\"135\",\n\"Jackson-Wink MMA\",\n\"Bantamweight\",\n\"Albuquerque, New Mexico\",\n\"United States\"],\n [{\n            'v': 4,\n            'f': \"4\",\n        },\n\"/fighter/Dominick-Cruz-12107\",\n\"12107\",\n\"Dominick Cruz\",\n\"The Dominator\",\n\"9/3/1985\",\n\"68\",\n\"134\",\n\"Alliance MMA\",\n\"Bantamweight\",\n\"San Diego, California\",\n\"United States\"]],\n        columns: [[\"number\", \"index\"], [\"string\", \"url\"], [\"string\", \"fid\"], [\"string\", \"name\"], [\"string\", \"nick\"], [\"string\", \"birth_date\"], [\"string\", \"height\"], [\"string\", \"weight\"], [\"string\", \"association\"], [\"string\", \"class\"], [\"string\", \"locality\"], [\"string\", \"country\"]],\n        columnOptions: [{\"width\": \"1px\", \"className\": \"index_column\"}],\n        rowsPerPage: 25,\n        helpUrl: \"https://colab.research.google.com/notebooks/data_table.ipynb\",\n        suppressOutputScrolling: true,\n        minimumWidth: undefined,\n      });\n    ",
            "text/html": [
              "<div>\n",
              "<style scoped>\n",
              "    .dataframe tbody tr th:only-of-type {\n",
              "        vertical-align: middle;\n",
              "    }\n",
              "\n",
              "    .dataframe tbody tr th {\n",
              "        vertical-align: top;\n",
              "    }\n",
              "\n",
              "    .dataframe thead th {\n",
              "        text-align: right;\n",
              "    }\n",
              "</style>\n",
              "<table border=\"1\" class=\"dataframe\">\n",
              "  <thead>\n",
              "    <tr style=\"text-align: right;\">\n",
              "      <th></th>\n",
              "      <th>url</th>\n",
              "      <th>fid</th>\n",
              "      <th>name</th>\n",
              "      <th>nick</th>\n",
              "      <th>birth_date</th>\n",
              "      <th>height</th>\n",
              "      <th>weight</th>\n",
              "      <th>association</th>\n",
              "      <th>class</th>\n",
              "      <th>locality</th>\n",
              "      <th>country</th>\n",
              "    </tr>\n",
              "  </thead>\n",
              "  <tbody>\n",
              "    <tr>\n",
              "      <th>0</th>\n",
              "      <td>url</td>\n",
              "      <td>fid</td>\n",
              "      <td>name</td>\n",
              "      <td>nick</td>\n",
              "      <td>birth_date</td>\n",
              "      <td>height</td>\n",
              "      <td>weight</td>\n",
              "      <td>association</td>\n",
              "      <td>class</td>\n",
              "      <td>locality</td>\n",
              "      <td>country</td>\n",
              "    </tr>\n",
              "    <tr>\n",
              "      <th>1</th>\n",
              "      <td>/fighter/Conor-McGregor-29688</td>\n",
              "      <td>29688</td>\n",
              "      <td>Conor McGregor</td>\n",
              "      <td>Notorious</td>\n",
              "      <td>7/14/1988</td>\n",
              "      <td>68</td>\n",
              "      <td>145</td>\n",
              "      <td>SBG Ireland</td>\n",
              "      <td>Featherweight</td>\n",
              "      <td>Dublin</td>\n",
              "      <td>Ireland</td>\n",
              "    </tr>\n",
              "    <tr>\n",
              "      <th>2</th>\n",
              "      <td>/fighter/Jon-Jones-27944</td>\n",
              "      <td>27944</td>\n",
              "      <td>Jon Jones</td>\n",
              "      <td>Bones</td>\n",
              "      <td>7/19/1987</td>\n",
              "      <td>76</td>\n",
              "      <td>205</td>\n",
              "      <td>Jackson-Wink MMA</td>\n",
              "      <td>Light Heavyweight</td>\n",
              "      <td>Rochester, New York</td>\n",
              "      <td>United States</td>\n",
              "    </tr>\n",
              "    <tr>\n",
              "      <th>3</th>\n",
              "      <td>/fighter/Holly-Holm-75125</td>\n",
              "      <td>75125</td>\n",
              "      <td>Holly Holm</td>\n",
              "      <td>The Preacher's Daughter</td>\n",
              "      <td>10/17/1981</td>\n",
              "      <td>68</td>\n",
              "      <td>135</td>\n",
              "      <td>Jackson-Wink MMA</td>\n",
              "      <td>Bantamweight</td>\n",
              "      <td>Albuquerque, New Mexico</td>\n",
              "      <td>United States</td>\n",
              "    </tr>\n",
              "    <tr>\n",
              "      <th>4</th>\n",
              "      <td>/fighter/Dominick-Cruz-12107</td>\n",
              "      <td>12107</td>\n",
              "      <td>Dominick Cruz</td>\n",
              "      <td>The Dominator</td>\n",
              "      <td>9/3/1985</td>\n",
              "      <td>68</td>\n",
              "      <td>134</td>\n",
              "      <td>Alliance MMA</td>\n",
              "      <td>Bantamweight</td>\n",
              "      <td>San Diego, California</td>\n",
              "      <td>United States</td>\n",
              "    </tr>\n",
              "  </tbody>\n",
              "</table>\n",
              "</div>"
            ],
            "text/plain": [
              "                             url    fid  ...                 locality        country\n",
              "0                            url    fid  ...                 locality        country\n",
              "1  /fighter/Conor-McGregor-29688  29688  ...                   Dublin        Ireland\n",
              "2       /fighter/Jon-Jones-27944  27944  ...      Rochester, New York  United States\n",
              "3      /fighter/Holly-Holm-75125  75125  ...  Albuquerque, New Mexico  United States\n",
              "4   /fighter/Dominick-Cruz-12107  12107  ...    San Diego, California  United States\n",
              "\n",
              "[5 rows x 11 columns]"
            ]
          },
          "metadata": {
            "tags": []
          },
          "execution_count": 2
        }
      ]
    },
    {
      "cell_type": "code",
      "metadata": {
        "id": "R0sy96ofjPHj",
        "colab_type": "code",
        "colab": {
          "base_uri": "https://localhost:8080/",
          "height": 213
        },
        "outputId": "e8e3583c-ea68-4f10-bde6-b5f80e6b54b3"
      },
      "source": [
        "Fighters_size_subset = Fighters.drop(['url', 'fid','nick','birth_date','association','locality','country'], axis = 1)\n",
        "Fighters_size_subset.head(6)"
      ],
      "execution_count": 3,
      "outputs": [
        {
          "output_type": "execute_result",
          "data": {
            "application/vnd.google.colaboratory.module+javascript": "\n      import \"https://ssl.gstatic.com/colaboratory/data_table/a6224c040fa35dcf/data_table.js\";\n\n      window.createDataTable({\n        data: [[{\n            'v': 0,\n            'f': \"0\",\n        },\n\"name\",\n\"height\",\n\"weight\",\n\"class\"],\n [{\n            'v': 1,\n            'f': \"1\",\n        },\n\"Conor McGregor\",\n\"68\",\n\"145\",\n\"Featherweight\"],\n [{\n            'v': 2,\n            'f': \"2\",\n        },\n\"Jon Jones\",\n\"76\",\n\"205\",\n\"Light Heavyweight\"],\n [{\n            'v': 3,\n            'f': \"3\",\n        },\n\"Holly Holm\",\n\"68\",\n\"135\",\n\"Bantamweight\"],\n [{\n            'v': 4,\n            'f': \"4\",\n        },\n\"Dominick Cruz\",\n\"68\",\n\"134\",\n\"Bantamweight\"],\n [{\n            'v': 5,\n            'f': \"5\",\n        },\n\"Demetrious Johnson\",\n\"63\",\n\"125\",\n\"Flyweight\"]],\n        columns: [[\"number\", \"index\"], [\"string\", \"name\"], [\"string\", \"height\"], [\"string\", \"weight\"], [\"string\", \"class\"]],\n        columnOptions: [{\"width\": \"1px\", \"className\": \"index_column\"}],\n        rowsPerPage: 25,\n        helpUrl: \"https://colab.research.google.com/notebooks/data_table.ipynb\",\n        suppressOutputScrolling: true,\n        minimumWidth: undefined,\n      });\n    ",
            "text/html": [
              "<div>\n",
              "<style scoped>\n",
              "    .dataframe tbody tr th:only-of-type {\n",
              "        vertical-align: middle;\n",
              "    }\n",
              "\n",
              "    .dataframe tbody tr th {\n",
              "        vertical-align: top;\n",
              "    }\n",
              "\n",
              "    .dataframe thead th {\n",
              "        text-align: right;\n",
              "    }\n",
              "</style>\n",
              "<table border=\"1\" class=\"dataframe\">\n",
              "  <thead>\n",
              "    <tr style=\"text-align: right;\">\n",
              "      <th></th>\n",
              "      <th>name</th>\n",
              "      <th>height</th>\n",
              "      <th>weight</th>\n",
              "      <th>class</th>\n",
              "    </tr>\n",
              "  </thead>\n",
              "  <tbody>\n",
              "    <tr>\n",
              "      <th>0</th>\n",
              "      <td>name</td>\n",
              "      <td>height</td>\n",
              "      <td>weight</td>\n",
              "      <td>class</td>\n",
              "    </tr>\n",
              "    <tr>\n",
              "      <th>1</th>\n",
              "      <td>Conor McGregor</td>\n",
              "      <td>68</td>\n",
              "      <td>145</td>\n",
              "      <td>Featherweight</td>\n",
              "    </tr>\n",
              "    <tr>\n",
              "      <th>2</th>\n",
              "      <td>Jon Jones</td>\n",
              "      <td>76</td>\n",
              "      <td>205</td>\n",
              "      <td>Light Heavyweight</td>\n",
              "    </tr>\n",
              "    <tr>\n",
              "      <th>3</th>\n",
              "      <td>Holly Holm</td>\n",
              "      <td>68</td>\n",
              "      <td>135</td>\n",
              "      <td>Bantamweight</td>\n",
              "    </tr>\n",
              "    <tr>\n",
              "      <th>4</th>\n",
              "      <td>Dominick Cruz</td>\n",
              "      <td>68</td>\n",
              "      <td>134</td>\n",
              "      <td>Bantamweight</td>\n",
              "    </tr>\n",
              "    <tr>\n",
              "      <th>5</th>\n",
              "      <td>Demetrious Johnson</td>\n",
              "      <td>63</td>\n",
              "      <td>125</td>\n",
              "      <td>Flyweight</td>\n",
              "    </tr>\n",
              "  </tbody>\n",
              "</table>\n",
              "</div>"
            ],
            "text/plain": [
              "                 name  height  weight              class\n",
              "0                name  height  weight              class\n",
              "1      Conor McGregor      68     145      Featherweight\n",
              "2           Jon Jones      76     205  Light Heavyweight\n",
              "3          Holly Holm      68     135       Bantamweight\n",
              "4       Dominick Cruz      68     134       Bantamweight\n",
              "5  Demetrious Johnson      63     125          Flyweight"
            ]
          },
          "metadata": {
            "tags": []
          },
          "execution_count": 3
        }
      ]
    }
  ]
}